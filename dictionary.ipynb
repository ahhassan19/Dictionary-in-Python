{
 "cells": [
  {
   "cell_type": "code",
   "execution_count": 1,
   "id": "801b5610-b9ab-407e-aea0-e9d00ef0a152",
   "metadata": {},
   "outputs": [
    {
     "name": "stdout",
     "output_type": "stream",
     "text": [
      "Today I learn dictionary in python\n"
     ]
    }
   ],
   "source": [
    "print(\"Today I learn dictionary in python\")"
   ]
  },
  {
   "cell_type": "code",
   "execution_count": null,
   "id": "ac55cfab-ba23-4cfc-bea0-216a11fc633c",
   "metadata": {},
   "outputs": [],
   "source": [
    "cars=[[]]"
   ]
  },
  {
   "cell_type": "code",
   "execution_count": 3,
   "id": "06ef7064-f3ad-492d-a6c1-7eaa6ff3b5dc",
   "metadata": {},
   "outputs": [
    {
     "name": "stdout",
     "output_type": "stream",
     "text": [
      "{' course ': 'pf', 'id': 'csc-22f-082', ' teacher_name ': 'hassan'}\n"
     ]
    }
   ],
   "source": [
    "#single dic...\n",
    "smiu={\n",
    "    \n",
    "   \" course \":\"pf\",\n",
    "    \"id\" : \"csc-22f-082\",\n",
    "   \" teacher_name \": \"hassan\"\n",
    "   \n",
    "    \n",
    "}\n",
    "print(smiu)"
   ]
  },
  {
   "cell_type": "code",
   "execution_count": 58,
   "id": "dd9f419f-2295-43e7-856c-ce04dc22acc1",
   "metadata": {},
   "outputs": [
    {
     "name": "stdout",
     "output_type": "stream",
     "text": [
      "dict_items([('phython', {'city': 'karachi', 'loc': 'bahadurabad', 'instructor': 'Qasim hassan'}), ('web dev', {'city': 'karachi', 'loc': 'malir', 'instructor': 'asharib ali'})])\n",
      "dict_keys(['phython', 'web dev'])\n",
      "dict_values([{'city': 'karachi', 'loc': 'bahadurabad', 'instructor': 'Qasim hassan'}, {'city': 'karachi', 'loc': 'malir', 'instructor': 'asharib ali'}])\n",
      "('phython', {'city': 'karachi', 'loc': 'bahadurabad', 'instructor': 'Qasim hassan'})\n",
      "('web dev', {'city': 'karachi', 'loc': 'malir', 'instructor': 'asharib ali'})\n"
     ]
    }
   ],
   "source": [
    "saylani={\n",
    "     \"phython\":{\n",
    "    \n",
    "    \"city\" : \"karachi\",\n",
    "    \"loc\"  : \"bahadurabad\" ,\n",
    "    \"instructor\" : \"Qasim hassan\"     \n",
    "       },\n",
    "    \"web dev\":\n",
    "    {\n",
    "    \"city\" : \"karachi\",\n",
    "    \"loc\"  : \"malir\" ,\n",
    "    \"instructor\" : \"asharib ali\"     \n",
    "\n",
    "        \n",
    "    }\n",
    "}\n",
    "print(saylani.items())\n",
    "print(saylani.keys())\n",
    "print(saylani.values())\n",
    "for a in saylani.items():\n",
    "    print(a)\n"
   ]
  },
  {
   "cell_type": "code",
   "execution_count": 6,
   "id": "5e255862-a5eb-4cb2-9bd0-b99512f5eddf",
   "metadata": {},
   "outputs": [
    {
     "data": {
      "text/plain": [
       "dict_keys([' course ', 'id', ' teacher_name '])"
      ]
     },
     "execution_count": 6,
     "metadata": {},
     "output_type": "execute_result"
    }
   ],
   "source": [
    "smiu.keys()"
   ]
  },
  {
   "cell_type": "code",
   "execution_count": 7,
   "id": "8e24fbe7-03d5-4455-9b1d-47ebe6b6882a",
   "metadata": {},
   "outputs": [
    {
     "data": {
      "text/plain": [
       "dict_values(['pf', 'csc-22f-082', 'hassan'])"
      ]
     },
     "execution_count": 7,
     "metadata": {},
     "output_type": "execute_result"
    }
   ],
   "source": [
    "smiu.values()"
   ]
  },
  {
   "cell_type": "code",
   "execution_count": 10,
   "id": "c40d8fea-a9a6-4fd6-8c3a-d897db12f928",
   "metadata": {},
   "outputs": [
    {
     "data": {
      "text/plain": [
       "dict_items"
      ]
     },
     "execution_count": 10,
     "metadata": {},
     "output_type": "execute_result"
    }
   ],
   "source": [
    "type(smiu.items())"
   ]
  },
  {
   "cell_type": "code",
   "execution_count": 14,
   "id": "353470fd-7955-4eb9-8e45-ec8204287cd4",
   "metadata": {},
   "outputs": [
    {
     "name": "stdout",
     "output_type": "stream",
     "text": [
      " The  course  and value pf\n",
      " The id and value csc-22f-082\n",
      " The  teacher_name  and value hassan\n"
     ]
    }
   ],
   "source": [
    "for key , value in smiu.items():\n",
    "    print(f\" The {key} and value {value}\")"
   ]
  },
  {
   "cell_type": "code",
   "execution_count": 37,
   "id": "9b1535c1-362a-4eaf-8f19-51d8242db3b6",
   "metadata": {},
   "outputs": [
    {
     "name": "stdout",
     "output_type": "stream",
     "text": [
      "3\n",
      "[{'customer id': 0, 'customer name': 'ahmed hassan', 'customer address': 'landhi karachi'}, {'customer id': 1, 'customer name': 'ahmed ', 'customer address': 'landhi karachi'}, {'customer id': 2, 'customer name': 'abi', 'customer address': 'gulsion karachi'}]\n"
     ]
    }
   ],
   "source": [
    "#list ka ander multiple disc..\n",
    "customers=[\n",
    "    {\n",
    "    \"customer id\": 0,\n",
    "    \"customer name\" : \"ahmed hassan\",\n",
    "    \"customer address\" : \"landhi karachi\"\n",
    "    },   \n",
    "    {\n",
    "    \"customer id\": 1,\n",
    "    \"customer name\" : \"ahmed \",\n",
    "    \"customer address\" : \"landhi karachi\",\n",
    "    },\n",
    "    {\n",
    "    \"customer id\": 2,\n",
    "    \"customer name\" : \"abi\",\n",
    "    \"customer address\" : \"gulsion karachi\",\n",
    "    }    \n",
    "    \n",
    " \n",
    "\n",
    "]\n",
    "print(len(customers))\n",
    "print(customers)\n",
    "\n"
   ]
  },
  {
   "cell_type": "code",
   "execution_count": 45,
   "id": "d5741452-c572-4bde-9a13-0bd5e3fbfd66",
   "metadata": {},
   "outputs": [
    {
     "name": "stdout",
     "output_type": "stream",
     "text": [
      "{0: {'id': 0, 'name': 'ahmed', 'address': 'karachi'}, 1: {'id': 1, 'name': 'ahmed hassan', 'address': 'karachi pak'}, 2: {'id': 2, 'name': 'abi', 'address': ' pak'}}\n"
     ]
    }
   ],
   "source": [
    "#dic ka ander multiple dic\n",
    "customer_dic={\n",
    "    0:{  \n",
    "        \"id\":0,\n",
    "        \"name\":\"ahmed\",\n",
    "        \"address\":\"karachi\"\n",
    "        \n",
    "    },\n",
    "    1:{  \n",
    "        \"id\":1,\n",
    "        \"name\":\"ahmed hassan\",\n",
    "        \"address\":\"karachi pak\"\n",
    "        \n",
    "    },\n",
    "    2:{\n",
    "       \"id\":2,\n",
    "        \"name\":\"abi\",\n",
    "        \"address\":\" pak\"\n",
    "        \n",
    "    }\n",
    "}\n",
    "print(customer_dic)"
   ]
  },
  {
   "cell_type": "code",
   "execution_count": null,
   "id": "491869f4-8738-4a19-8b92-6132a61aaa6e",
   "metadata": {},
   "outputs": [],
   "source": []
  },
  {
   "cell_type": "code",
   "execution_count": null,
   "id": "4800d766-6da0-4ec3-a48f-b6478f42e74d",
   "metadata": {},
   "outputs": [],
   "source": []
  }
 ],
 "metadata": {
  "kernelspec": {
   "display_name": "Python 3 (ipykernel)",
   "language": "python",
   "name": "python3"
  },
  "language_info": {
   "codemirror_mode": {
    "name": "ipython",
    "version": 3
   },
   "file_extension": ".py",
   "mimetype": "text/x-python",
   "name": "python",
   "nbconvert_exporter": "python",
   "pygments_lexer": "ipython3",
   "version": "3.11.7"
  }
 },
 "nbformat": 4,
 "nbformat_minor": 5
}
